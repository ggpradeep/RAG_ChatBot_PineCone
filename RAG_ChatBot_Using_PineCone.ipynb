{
  "cells": [
    {
      "cell_type": "code",
      "execution_count": null,
      "metadata": {
        "colab": {
          "base_uri": "https://localhost:8080/"
        },
        "collapsed": true,
        "id": "kFi4nXlOMr0M",
        "outputId": "beb975a8-131e-4f78-c0fa-3efdb39e4222"
      },
      "outputs": [],
      "source": [
        "!pip install langchain\n",
        "!pip install langchain_community\n",
        "!pip install langchain-huggingface==0.1.2\n",
        "!pip install langchain-pinecone\n",
        "!pip install unstructured\n",
        "!pip install \"unstructured[pdf]\"\n",
        "!pip install boto3"
      ]
    },
    {
      "cell_type": "code",
      "execution_count": 81,
      "metadata": {
        "id": "ar4DG7suNsJU"
      },
      "outputs": [],
      "source": [
        "from langchain.document_loaders import DirectoryLoader\n",
        "\n",
        "loader = DirectoryLoader('/content/', glob=\"**/*.pdf\")\n",
        "data = loader.load()"
      ]
    },
    {
      "cell_type": "code",
      "execution_count": null,
      "metadata": {
        "colab": {
          "base_uri": "https://localhost:8080/"
        },
        "collapsed": true,
        "id": "0YnRsBlnN3J7",
        "outputId": "8b5eb772-3395-4031-9e98-5cc52592e07f"
      },
      "outputs": [],
      "source": [
        "print(f\"You have {len(data)} documents\")"
      ]
    },
    {
      "cell_type": "code",
      "execution_count": null,
      "metadata": {
        "colab": {
          "base_uri": "https://localhost:8080/"
        },
        "id": "YqPR8KgcOFyI",
        "outputId": "8ac73344-be61-4db7-87cf-9fd0272aeaa5"
      },
      "outputs": [],
      "source": [
        "print(f\"Document 1 contains {len(data[0].page_content)} characters\")"
      ]
    },
    {
      "cell_type": "code",
      "execution_count": 84,
      "metadata": {
        "id": "CW7kptxNOJif"
      },
      "outputs": [],
      "source": [
        "from langchain.text_splitter import RecursiveCharacterTextSplitter\n",
        "\n",
        "text_splitter = RecursiveCharacterTextSplitter(chunk_size=250, chunk_overlap=50)\n",
        "chunks = text_splitter.split_documents(data)"
      ]
    },
    {
      "cell_type": "code",
      "execution_count": null,
      "metadata": {
        "colab": {
          "base_uri": "https://localhost:8080/"
        },
        "collapsed": true,
        "id": "WS4BVmtkONFK",
        "outputId": "3887d88b-74b1-4d72-9844-f96c86bcc6bb"
      },
      "outputs": [],
      "source": [
        "chunks"
      ]
    },
    {
      "cell_type": "code",
      "execution_count": null,
      "metadata": {
        "colab": {
          "base_uri": "https://localhost:8080/"
        },
        "id": "cpefYB5cO__J",
        "outputId": "73417cd7-21ed-4a42-b7db-2cc67661a3c5"
      },
      "outputs": [],
      "source": [
        "print(f\"You have {len(chunks)} chunks\")"
      ]
    },
    {
      "cell_type": "code",
      "execution_count": null,
      "metadata": {
        "colab": {
          "base_uri": "https://localhost:8080/"
        },
        "id": "d5Ko8OUoPEj4",
        "outputId": "54e2adce-599a-449e-b9c1-a0a9fac0ed1a"
      },
      "outputs": [],
      "source": [
        "print(f\"The first chunk is {len(chunks[0].page_content)} characters long\")"
      ]
    },
    {
      "cell_type": "code",
      "execution_count": null,
      "metadata": {
        "colab": {
          "base_uri": "https://localhost:8080/"
        },
        "collapsed": true,
        "id": "N5OpzCeAPJaW",
        "outputId": "16c2661f-e088-423c-fa56-cf65828cd4bf"
      },
      "outputs": [],
      "source": [
        "from langchain_pinecone import PineconeVectorStore\n",
        "from langchain_community.embeddings import HuggingFaceEmbeddings\n",
        "\n",
        "# Load embedding LLM\n",
        "embeddings = HuggingFaceEmbeddings(model_name=\"sentence-transformers/all-MiniLM-L6-v2\")\n",
        "\n",
        "# Load data to vectorstore\n",
        "import os\n",
        "os.environ['PINECONE_API_KEY'] = \"pcsk_3cVjXF_7mTGLMoAg8JbkTqsg5r77vYyrN89wwJ2nqyCFVqTuvjXdKvKaz8HLNNcB1vwnZo\"\n",
        "PineconeVectorStore.from_documents(chunks, embeddings, index_name='tutorial')"
      ]
    },
    {
      "cell_type": "code",
      "execution_count": 88,
      "metadata": {
        "id": "pRlye6TGUQou"
      },
      "outputs": [],
      "source": [
        "vectorstore = PineconeVectorStore(index_name='tutorial', embedding=embeddings)"
      ]
    },
    {
      "cell_type": "code",
      "execution_count": 89,
      "metadata": {
        "id": "2zw8LWD2UdbK"
      },
      "outputs": [],
      "source": [
        "from langchain.prompts import ChatPromptTemplate\n",
        "from langchain_core.runnables import RunnablePassthrough, RunnableParallel\n",
        "from langchain_core.output_parsers import StrOutputParser\n",
        "\n",
        "# Define prompt\n",
        "template = '''You are a Human Resource Manager for your Organization.\n",
        "Use this context to reply to the Question:\n",
        "{context}\n",
        "\n",
        "Question: {question}'''\n",
        "\n",
        "prompt = ChatPromptTemplate.from_template(template)"
      ]
    },
    {
      "cell_type": "code",
      "execution_count": 90,
      "metadata": {
        "id": "ABEoqC-he5uv"
      },
      "outputs": [],
      "source": [
        "import os\n",
        "os.environ[\"HUGGING_FACE_HUB_TOKEN\"] = \"\" # replace YOUR_HUGGING_FACE_TOKEN"
      ]
    },
    {
      "cell_type": "code",
      "execution_count": null,
      "metadata": {
        "colab": {
          "base_uri": "https://localhost:8080/"
        },
        "id": "LXBdRjyTUjXg",
        "outputId": "8f8e8c67-b5d4-4eef-ddcf-050f52b54ae6"
      },
      "outputs": [],
      "source": [
        "from langchain_huggingface import HuggingFaceEmbeddings\n",
        "from langchain_huggingface import HuggingFaceEndpoint,ChatHuggingFace\n",
        "\n",
        "llm = HuggingFaceEndpoint(\n",
        "                repo_id=\"microsoft/Phi-3-mini-4k-instruct\",\n",
        "                task=\"text-generation\",\n",
        "                max_new_tokens=512,\n",
        "                do_sample=False,\n",
        "                repetition_penalty=1.03,\n",
        "                token=\"\"\n",
        "            )\n",
        "\n",
        "chat = ChatHuggingFace(llm=llm, verbose=True)"
      ]
    },
    {
      "cell_type": "code",
      "execution_count": 92,
      "metadata": {
        "id": "d0b8niUIVLej"
      },
      "outputs": [],
      "source": [
        "# Function to merge text chunks\n",
        "def format_docs(docs):\n",
        "    return \"\\n\\n\".join(doc.page_content for doc in docs)\n",
        "\n",
        "# RAG chain\n",
        "rag_chain = (\n",
        "    {\"context\": vectorstore.as_retriever() | format_docs, \"question\": RunnablePassthrough()}\n",
        "    | prompt\n",
        "    | llm\n",
        "    | StrOutputParser()\n",
        ")"
      ]
    },
    {
      "cell_type": "code",
      "execution_count": 95,
      "metadata": {
        "collapsed": true,
        "id": "relHH0fYVOs3"
      },
      "outputs": [],
      "source": [
        "question = 'How many days of leave can I carry forward?'\n",
        "response = rag_chain.invoke(question)"
      ]
    },
    {
      "cell_type": "code",
      "execution_count": null,
      "metadata": {
        "colab": {
          "base_uri": "https://localhost:8080/",
          "height": 105
        },
        "id": "wF0HV8elYmsR",
        "outputId": "671b2b2d-1b66-4366-f3c1-41f90fa606fe"
      },
      "outputs": [],
      "source": [
        "response"
      ]
    }
  ],
  "metadata": {
    "colab": {
      "provenance": []
    },
    "kernelspec": {
      "display_name": "Python 3",
      "name": "python3"
    },
    "language_info": {
      "name": "python"
    }
  },
  "nbformat": 4,
  "nbformat_minor": 0
}
